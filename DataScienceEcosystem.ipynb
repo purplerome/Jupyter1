{
 "cells": [
  {
   "cell_type": "markdown",
   "id": "cfb5e811-3d76-4f96-8a07-49dc2044f2c4",
   "metadata": {},
   "source": [
    "# Data Science Tools and Ecosystem"
   ]
  },
  {
   "cell_type": "markdown",
   "id": "6069c480-d0e8-4f68-9822-d0e4c5656d07",
   "metadata": {},
   "source": [
    "In this notebook, Data Science Tools and Ecosystem are summarised. "
   ]
  },
  {
   "cell_type": "markdown",
   "id": "ec0bf4d8-166c-464f-bd54-01ebc2483a43",
   "metadata": {},
   "source": [
    "Some of the popular languages that Data Scientists use are:\n",
    "\n",
    "1. Python\n",
    "2. R and R Studio\n",
    "3. Julia\n"
   ]
  },
  {
   "cell_type": "markdown",
   "id": "224b6179-c9fd-4012-bf45-857b3d44e243",
   "metadata": {},
   "source": [
    "Some of the commonly used libraries by Data Scientists include:\n",
    "\n",
    "1. Pandas\n",
    "2. MatplotLib\n",
    "3. NumPy\n",
    "\n"
   ]
  },
  {
   "cell_type": "markdown",
   "id": "cec9d14e-3163-47d6-8d6f-38ee72c682a1",
   "metadata": {},
   "source": [
    "| Data Science Tools |\n",
    "| ------------------ |\n",
    "| Notepad++ |\n",
    "| NodeJS |\n",
    "| Visual Studio Code |\n"
   ]
  },
  {
   "cell_type": "markdown",
   "id": "51c51c48-b71e-4375-a8d7-3f51ba53f507",
   "metadata": {},
   "source": [
    "### Below are a few examples of evaluating arithmetic expressions in Python"
   ]
  },
  {
   "cell_type": "code",
   "execution_count": 1,
   "id": "f4a77714-74c8-4ef9-9388-eaa3d7855118",
   "metadata": {},
   "outputs": [
    {
     "data": {
      "text/plain": [
       "17"
      ]
     },
     "execution_count": 1,
     "metadata": {},
     "output_type": "execute_result"
    }
   ],
   "source": [
    "# This is a simple arithmetic expression to multiply then add integers\n",
    "\n",
    "(3*4)+5"
   ]
  },
  {
   "cell_type": "code",
   "execution_count": 2,
   "id": "de7f28f9-b459-401e-8320-1a13eec78cac",
   "metadata": {},
   "outputs": [
    {
     "data": {
      "text/plain": [
       "3.3333333333333335"
      ]
     },
     "execution_count": 2,
     "metadata": {},
     "output_type": "execute_result"
    }
   ],
   "source": [
    "# This will convert 200 minutes to hours by dividing by 60\n",
    "200/60\n"
   ]
  },
  {
   "cell_type": "markdown",
   "id": "97b34e61-e850-46c3-a1b3-3632336f488b",
   "metadata": {},
   "source": [
    "**Objectives**\n",
    "- List popular languages for data science\n",
    "- List popular libraries for data sciebce\n",
    "- List popular data science tools\n"
   ]
  },
  {
   "cell_type": "markdown",
   "id": "ba10457a-dadb-4aa1-8648-e69971fdb8a0",
   "metadata": {},
   "source": [
    "## Author\n",
    "Cheryl Crispo"
   ]
  }
 ],
 "metadata": {
  "kernelspec": {
   "display_name": "Python 3 (ipykernel)",
   "language": "python",
   "name": "python3"
  },
  "language_info": {
   "codemirror_mode": {
    "name": "ipython",
    "version": 3
   },
   "file_extension": ".py",
   "mimetype": "text/x-python",
   "name": "python",
   "nbconvert_exporter": "python",
   "pygments_lexer": "ipython3",
   "version": "3.11.1"
  }
 },
 "nbformat": 4,
 "nbformat_minor": 5
}
